{
 "cells": [
  {
   "cell_type": "code",
   "execution_count": 1,
   "metadata": {},
   "outputs": [],
   "source": [
    "import os\n",
    "os.environ[\"CUDA_VISIBLE_DEVICES\"] = \"1\""
   ]
  },
  {
   "cell_type": "code",
   "execution_count": 1,
   "metadata": {},
   "outputs": [],
   "source": [
    "import torch\n",
    "import pandas as pd\n",
    "from torchmetrics.text import ROUGEScore\n",
    "from transformers import BartForConditionalGeneration, BartTokenizerFast\n",
    "from tqdm.notebook import tqdm"
   ]
  },
  {
   "cell_type": "code",
   "execution_count": 2,
   "metadata": {},
   "outputs": [],
   "source": [
    "df = pd.read_csv(\"../../data/labelled/reviews/splits/test.csv\")"
   ]
  },
  {
   "cell_type": "code",
   "execution_count": 3,
   "metadata": {},
   "outputs": [
    {
     "data": {
      "text/html": [
       "<div>\n",
       "<style scoped>\n",
       "    .dataframe tbody tr th:only-of-type {\n",
       "        vertical-align: middle;\n",
       "    }\n",
       "\n",
       "    .dataframe tbody tr th {\n",
       "        vertical-align: top;\n",
       "    }\n",
       "\n",
       "    .dataframe thead th {\n",
       "        text-align: right;\n",
       "    }\n",
       "</style>\n",
       "<table border=\"1\" class=\"dataframe\">\n",
       "  <thead>\n",
       "    <tr style=\"text-align: right;\">\n",
       "      <th></th>\n",
       "      <th>input_reviews</th>\n",
       "      <th>label_reviews</th>\n",
       "    </tr>\n",
       "  </thead>\n",
       "  <tbody>\n",
       "    <tr>\n",
       "      <th>0</th>\n",
       "      <td>Below are the reviews of a product: \\n- I purc...</td>\n",
       "      <td>pros:\\n- Reduces glare\\n- Very impressive\\n- W...</td>\n",
       "    </tr>\n",
       "    <tr>\n",
       "      <th>1</th>\n",
       "      <td>Below are the reviews of a product: \\n- Well w...</td>\n",
       "      <td>pros:\\n- Huge capacity\\n- Beautiful design\\n- ...</td>\n",
       "    </tr>\n",
       "  </tbody>\n",
       "</table>\n",
       "</div>"
      ],
      "text/plain": [
       "                                       input_reviews  \\\n",
       "0  Below are the reviews of a product: \\n- I purc...   \n",
       "1  Below are the reviews of a product: \\n- Well w...   \n",
       "\n",
       "                                       label_reviews  \n",
       "0  pros:\\n- Reduces glare\\n- Very impressive\\n- W...  \n",
       "1  pros:\\n- Huge capacity\\n- Beautiful design\\n- ...  "
      ]
     },
     "execution_count": 3,
     "metadata": {},
     "output_type": "execute_result"
    }
   ],
   "source": [
    "df.head(2)"
   ]
  },
  {
   "cell_type": "code",
   "execution_count": 4,
   "metadata": {},
   "outputs": [
    {
     "data": {
      "text/plain": [
       "'cuda'"
      ]
     },
     "execution_count": 4,
     "metadata": {},
     "output_type": "execute_result"
    }
   ],
   "source": [
    "if torch.cuda.is_available():\n",
    "    device = \"cuda\"\n",
    "elif torch.backends.mps.is_available():\n",
    "    device = \"mps\"\n",
    "else:\n",
    "    device = \"cpu\"\n",
    "\n",
    "device"
   ]
  },
  {
   "cell_type": "code",
   "execution_count": 5,
   "metadata": {},
   "outputs": [],
   "source": [
    "model_path = \"saichandrapandraju/bart-summarization-amazon-product-reviews\""
   ]
  },
  {
   "cell_type": "code",
   "execution_count": 6,
   "metadata": {},
   "outputs": [
    {
     "data": {
      "application/vnd.jupyter.widget-view+json": {
       "model_id": "074a14a7291e4d2db27a56c3902299c2",
       "version_major": 2,
       "version_minor": 0
      },
      "text/plain": [
       "config.json:   0%|          | 0.00/1.66k [00:00<?, ?B/s]"
      ]
     },
     "metadata": {},
     "output_type": "display_data"
    },
    {
     "name": "stderr",
     "output_type": "stream",
     "text": [
      "C:\\Users\\u.hoitash\\AppData\\Roaming\\Python\\Python310\\site-packages\\huggingface_hub\\file_download.py:149: UserWarning: `huggingface_hub` cache-system uses symlinks by default to efficiently store duplicated files but your machine does not support them in C:\\Users\\u.hoitash\\.cache\\huggingface\\hub\\models--saichandrapandraju--bart-summarization-amazon-product-reviews. Caching files will still work but in a degraded version that might require more space on your disk. This warning can be disabled by setting the `HF_HUB_DISABLE_SYMLINKS_WARNING` environment variable. For more details, see https://huggingface.co/docs/huggingface_hub/how-to-cache#limitations.\n",
      "To support symlinks on Windows, you either need to activate Developer Mode or to run Python as an administrator. In order to see activate developer mode, see this article: https://docs.microsoft.com/en-us/windows/apps/get-started/enable-your-device-for-development\n",
      "  warnings.warn(message)\n"
     ]
    },
    {
     "data": {
      "application/vnd.jupyter.widget-view+json": {
       "model_id": "89f4da09009d4a5c828e28883e60a90b",
       "version_major": 2,
       "version_minor": 0
      },
      "text/plain": [
       "model.safetensors:   0%|          | 0.00/1.63G [00:00<?, ?B/s]"
      ]
     },
     "metadata": {},
     "output_type": "display_data"
    },
    {
     "data": {
      "application/vnd.jupyter.widget-view+json": {
       "model_id": "a6cd265ed4c04ebabb95c4b9d8df5e50",
       "version_major": 2,
       "version_minor": 0
      },
      "text/plain": [
       "generation_config.json:   0%|          | 0.00/328 [00:00<?, ?B/s]"
      ]
     },
     "metadata": {},
     "output_type": "display_data"
    }
   ],
   "source": [
    "model = BartForConditionalGeneration.from_pretrained(model_path)"
   ]
  },
  {
   "cell_type": "code",
   "execution_count": 7,
   "metadata": {},
   "outputs": [],
   "source": [
    "%%capture\n",
    "model.to(device)"
   ]
  },
  {
   "cell_type": "code",
   "execution_count": 8,
   "metadata": {},
   "outputs": [
    {
     "data": {
      "application/vnd.jupyter.widget-view+json": {
       "model_id": "619f354c9d8247eaa8cb271a10c1a0d7",
       "version_major": 2,
       "version_minor": 0
      },
      "text/plain": [
       "tokenizer_config.json:   0%|          | 0.00/1.21k [00:00<?, ?B/s]"
      ]
     },
     "metadata": {},
     "output_type": "display_data"
    },
    {
     "data": {
      "application/vnd.jupyter.widget-view+json": {
       "model_id": "6ab3ac2e589445fc83e742270f4cf7da",
       "version_major": 2,
       "version_minor": 0
      },
      "text/plain": [
       "vocab.json:   0%|          | 0.00/798k [00:00<?, ?B/s]"
      ]
     },
     "metadata": {},
     "output_type": "display_data"
    },
    {
     "data": {
      "application/vnd.jupyter.widget-view+json": {
       "model_id": "be750745ecbd45d1b564409bf49122c6",
       "version_major": 2,
       "version_minor": 0
      },
      "text/plain": [
       "merges.txt:   0%|          | 0.00/456k [00:00<?, ?B/s]"
      ]
     },
     "metadata": {},
     "output_type": "display_data"
    },
    {
     "data": {
      "application/vnd.jupyter.widget-view+json": {
       "model_id": "2a2cab82dac74fa38a52abbcdcb512b3",
       "version_major": 2,
       "version_minor": 0
      },
      "text/plain": [
       "tokenizer.json:   0%|          | 0.00/2.11M [00:00<?, ?B/s]"
      ]
     },
     "metadata": {},
     "output_type": "display_data"
    },
    {
     "data": {
      "application/vnd.jupyter.widget-view+json": {
       "model_id": "1676b153cf4543e6b05b1abd6a06e2c6",
       "version_major": 2,
       "version_minor": 0
      },
      "text/plain": [
       "special_tokens_map.json:   0%|          | 0.00/279 [00:00<?, ?B/s]"
      ]
     },
     "metadata": {},
     "output_type": "display_data"
    }
   ],
   "source": [
    "tokenizer = BartTokenizerFast.from_pretrained(model_path)"
   ]
  },
  {
   "cell_type": "code",
   "execution_count": 9,
   "metadata": {},
   "outputs": [],
   "source": [
    "rouge = ROUGEScore()"
   ]
  },
  {
   "cell_type": "code",
   "execution_count": 10,
   "metadata": {},
   "outputs": [],
   "source": [
    "batch_size = 8"
   ]
  },
  {
   "cell_type": "code",
   "execution_count": 11,
   "metadata": {},
   "outputs": [
    {
     "data": {
      "application/vnd.jupyter.widget-view+json": {
       "model_id": "4f91d4ac42804d08b7f32ef4724222e2",
       "version_major": 2,
       "version_minor": 0
      },
      "text/plain": [
       "  0%|          | 0/2500 [00:00<?, ?it/s]"
      ]
     },
     "metadata": {},
     "output_type": "display_data"
    }
   ],
   "source": [
    "rouge_scores = {\"rouge1\":[], \"rouge2\":[], \"rougeL\": []}\n",
    "preds_all = []\n",
    "for idx in tqdm(range(0, len(df), batch_size)):\n",
    "    batch = df[idx:idx+batch_size]\n",
    "    product_reviews = batch.input_reviews.to_list()\n",
    "    actual_summary = batch.label_reviews.to_list()\n",
    "\n",
    "    input_ids = tokenizer(product_reviews, max_length=512, return_tensors=\"pt\", padding=True, truncation=True)[\"input_ids\"].to(device)\n",
    "    summary_ids = model.generate(input_ids, min_length=0, max_length=256)\n",
    "    preds = tokenizer.batch_decode(summary_ids, skip_special_tokens=True, clean_up_tokenization_spaces=False)\n",
    "    preds_all.extend(preds)\n",
    "\n",
    "    for pred, target in zip(preds, actual_summary):\n",
    "        rouge_all = rouge(pred, target)\n",
    "        rouge_scores['rouge1'].append(rouge_all['rouge1_fmeasure'].item())\n",
    "        rouge_scores['rouge2'].append(rouge_all['rouge2_fmeasure'].item())\n",
    "        rouge_scores['rougeL'].append(rouge_all['rougeL_fmeasure'].item())\n"
   ]
  },
  {
   "cell_type": "code",
   "execution_count": 12,
   "metadata": {},
   "outputs": [],
   "source": [
    "df['rouge1'] = rouge_scores['rouge1']\n",
    "df['rouge2'] = rouge_scores['rouge2']\n",
    "df['rougeL'] = rouge_scores['rougeL']\n",
    "df['bart_large_finetuned'] = preds_all"
   ]
  },
  {
   "cell_type": "code",
   "execution_count": 13,
   "metadata": {},
   "outputs": [],
   "source": [
    "df.to_csv(\"bart_large_reviews_scores.csv\", index=False)"
   ]
  },
  {
   "cell_type": "code",
   "execution_count": 14,
   "metadata": {},
   "outputs": [],
   "source": [
    "df = pd.read_csv(\"bart_large_reviews_scores.csv\")"
   ]
  },
  {
   "cell_type": "code",
   "execution_count": 14,
   "metadata": {},
   "outputs": [
    {
     "data": {
      "text/html": [
       "<div>\n",
       "<style scoped>\n",
       "    .dataframe tbody tr th:only-of-type {\n",
       "        vertical-align: middle;\n",
       "    }\n",
       "\n",
       "    .dataframe tbody tr th {\n",
       "        vertical-align: top;\n",
       "    }\n",
       "\n",
       "    .dataframe thead th {\n",
       "        text-align: right;\n",
       "    }\n",
       "</style>\n",
       "<table border=\"1\" class=\"dataframe\">\n",
       "  <thead>\n",
       "    <tr style=\"text-align: right;\">\n",
       "      <th></th>\n",
       "      <th>input_reviews</th>\n",
       "      <th>label_reviews</th>\n",
       "      <th>rouge1</th>\n",
       "      <th>rouge2</th>\n",
       "      <th>rougeL</th>\n",
       "      <th>bart_large_finetuned</th>\n",
       "    </tr>\n",
       "  </thead>\n",
       "  <tbody>\n",
       "    <tr>\n",
       "      <th>0</th>\n",
       "      <td>Below are the reviews of a product: \\n- I purc...</td>\n",
       "      <td>pros:\\n- Reduces glare\\n- Very impressive\\n- W...</td>\n",
       "      <td>0.372340</td>\n",
       "      <td>0.107527</td>\n",
       "      <td>0.244681</td>\n",
       "      <td>pros:\\n- No glare in photos\\n- Well-built\\n- W...</td>\n",
       "    </tr>\n",
       "    <tr>\n",
       "      <th>1</th>\n",
       "      <td>Below are the reviews of a product: \\n- Well w...</td>\n",
       "      <td>pros:\\n- Huge capacity\\n- Beautiful design\\n- ...</td>\n",
       "      <td>0.333333</td>\n",
       "      <td>0.132653</td>\n",
       "      <td>0.232323</td>\n",
       "      <td>pros:\\n- Charges devices at almost full oem sp...</td>\n",
       "    </tr>\n",
       "    <tr>\n",
       "      <th>2</th>\n",
       "      <td>Below are the reviews of a product: \\n- Charge...</td>\n",
       "      <td>pros:\\n- Charges fast\\n- Works well\\n- Charges...</td>\n",
       "      <td>0.397059</td>\n",
       "      <td>0.164179</td>\n",
       "      <td>0.294118</td>\n",
       "      <td>pros:\\n- Charges fast\\n- Perfect with travel c...</td>\n",
       "    </tr>\n",
       "    <tr>\n",
       "      <th>3</th>\n",
       "      <td>Below are the reviews of a product: \\n- Given ...</td>\n",
       "      <td>pros:\\n- Very rugged and shock resistant\\n- Pr...</td>\n",
       "      <td>0.521739</td>\n",
       "      <td>0.231076</td>\n",
       "      <td>0.316206</td>\n",
       "      <td>pros:\\n- Rugged and shock resistant\\n- Easy to...</td>\n",
       "    </tr>\n",
       "    <tr>\n",
       "      <th>4</th>\n",
       "      <td>Below are the reviews of a product: \\n- I orde...</td>\n",
       "      <td>pros:\\n- Sturdy packaging and build (stand up ...</td>\n",
       "      <td>0.404669</td>\n",
       "      <td>0.086275</td>\n",
       "      <td>0.202335</td>\n",
       "      <td>pros:\\n- Sturdy angled plug with a sturdy cord...</td>\n",
       "    </tr>\n",
       "  </tbody>\n",
       "</table>\n",
       "</div>"
      ],
      "text/plain": [
       "                                       input_reviews  \\\n",
       "0  Below are the reviews of a product: \\n- I purc...   \n",
       "1  Below are the reviews of a product: \\n- Well w...   \n",
       "2  Below are the reviews of a product: \\n- Charge...   \n",
       "3  Below are the reviews of a product: \\n- Given ...   \n",
       "4  Below are the reviews of a product: \\n- I orde...   \n",
       "\n",
       "                                       label_reviews    rouge1    rouge2  \\\n",
       "0  pros:\\n- Reduces glare\\n- Very impressive\\n- W...  0.372340  0.107527   \n",
       "1  pros:\\n- Huge capacity\\n- Beautiful design\\n- ...  0.333333  0.132653   \n",
       "2  pros:\\n- Charges fast\\n- Works well\\n- Charges...  0.397059  0.164179   \n",
       "3  pros:\\n- Very rugged and shock resistant\\n- Pr...  0.521739  0.231076   \n",
       "4  pros:\\n- Sturdy packaging and build (stand up ...  0.404669  0.086275   \n",
       "\n",
       "     rougeL                               bart_large_finetuned  \n",
       "0  0.244681  pros:\\n- No glare in photos\\n- Well-built\\n- W...  \n",
       "1  0.232323  pros:\\n- Charges devices at almost full oem sp...  \n",
       "2  0.294118  pros:\\n- Charges fast\\n- Perfect with travel c...  \n",
       "3  0.316206  pros:\\n- Rugged and shock resistant\\n- Easy to...  \n",
       "4  0.202335  pros:\\n- Sturdy angled plug with a sturdy cord...  "
      ]
     },
     "execution_count": 14,
     "metadata": {},
     "output_type": "execute_result"
    }
   ],
   "source": [
    "df.head()"
   ]
  },
  {
   "cell_type": "code",
   "execution_count": 15,
   "metadata": {},
   "outputs": [],
   "source": [
    "scores = {\"rouge1\": df.rouge1.mean(), \"rouge2\": df.rouge2.mean(), \"rougeL\": df.rougeL.mean()}"
   ]
  },
  {
   "cell_type": "code",
   "execution_count": 16,
   "metadata": {},
   "outputs": [
    {
     "data": {
      "text/plain": [
       "{'rouge1': 0.4472946444006637,\n",
       " 'rouge2': 0.20606587370915805,\n",
       " 'rougeL': 0.3178484115054831}"
      ]
     },
     "execution_count": 16,
     "metadata": {},
     "output_type": "execute_result"
    }
   ],
   "source": [
    "scores"
   ]
  },
  {
   "cell_type": "code",
   "execution_count": null,
   "metadata": {},
   "outputs": [],
   "source": []
  },
  {
   "cell_type": "code",
   "execution_count": null,
   "metadata": {},
   "outputs": [],
   "source": []
  }
 ],
 "metadata": {
  "kaggle": {
   "accelerator": "nvidiaTeslaT4",
   "dataSources": [
    {
     "datasetId": 4701289,
     "sourceId": 7986629,
     "sourceType": "datasetVersion"
    }
   ],
   "dockerImageVersionId": 30674,
   "isGpuEnabled": true,
   "isInternetEnabled": true,
   "language": "python",
   "sourceType": "notebook"
  },
  "kernelspec": {
   "display_name": "Python 3 (ipykernel)",
   "language": "python",
   "name": "python3"
  },
  "language_info": {
   "codemirror_mode": {
    "name": "ipython",
    "version": 3
   },
   "file_extension": ".py",
   "mimetype": "text/x-python",
   "name": "python",
   "nbconvert_exporter": "python",
   "pygments_lexer": "ipython3",
   "version": "3.10.12"
  }
 },
 "nbformat": 4,
 "nbformat_minor": 4
}
