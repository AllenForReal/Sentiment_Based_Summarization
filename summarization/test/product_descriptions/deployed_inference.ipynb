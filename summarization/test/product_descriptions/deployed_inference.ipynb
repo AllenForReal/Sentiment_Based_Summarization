{
 "cells": [
  {
   "cell_type": "code",
   "execution_count": 26,
   "metadata": {},
   "outputs": [
    {
     "data": {
      "text/plain": [
       "True"
      ]
     },
     "execution_count": 26,
     "metadata": {},
     "output_type": "execute_result"
    }
   ],
   "source": [
    "import runpod\n",
    "import os\n",
    "import json\n",
    "from dotenv import load_dotenv\n",
    "\n",
    "load_dotenv()"
   ]
  },
  {
   "cell_type": "code",
   "execution_count": 18,
   "metadata": {},
   "outputs": [],
   "source": [
    "runpod.api_key = os.getenv(\"runpod_api_key\")"
   ]
  },
  {
   "cell_type": "code",
   "execution_count": 20,
   "metadata": {},
   "outputs": [],
   "source": [
    "input_payload = {\"input\": {\"text\": \"A giant binocular with a 20x magnification power and impressive 80mm objective, built to maximize the field of view and provide an outstanding panoramic vision. Ideal for viewing the flora and fauna watching. Due to its dimensions it is quite heavy and it is therefore recommended to use it with a tripod. They are supplied complete with case, straps and instructions.\"}}\n"
   ]
  },
  {
   "cell_type": "code",
   "execution_count": 21,
   "metadata": {},
   "outputs": [],
   "source": [
    "endpoint_id = \"l8p1v5w0gct9w8\""
   ]
  },
  {
   "cell_type": "code",
   "execution_count": 28,
   "metadata": {},
   "outputs": [],
   "source": [
    "endpoint = runpod.Endpoint(endpoint_id)"
   ]
  },
  {
   "cell_type": "code",
   "execution_count": 27,
   "metadata": {},
   "outputs": [
    {
     "name": "stdout",
     "output_type": "stream",
     "text": [
      "{\n",
      "  \"jobs\": {\n",
      "    \"completed\": 6,\n",
      "    \"failed\": 0,\n",
      "    \"inProgress\": 0,\n",
      "    \"inQueue\": 0,\n",
      "    \"retried\": 0\n",
      "  },\n",
      "  \"workers\": {\n",
      "    \"idle\": 1,\n",
      "    \"initializing\": 0,\n",
      "    \"ready\": 1,\n",
      "    \"running\": 0,\n",
      "    \"throttled\": 0\n",
      "  }\n",
      "}\n"
     ]
    }
   ],
   "source": [
    "endpoint_health = endpoint.health()\n",
    "\n",
    "print(json.dumps(endpoint_health, indent=2))"
   ]
  },
  {
   "cell_type": "code",
   "execution_count": 29,
   "metadata": {},
   "outputs": [
    {
     "name": "stdout",
     "output_type": "stream",
     "text": [
      "Initial job status: IN_QUEUE\n",
      "\n",
      "Job output:\n",
      "\n",
      "Giant binoculars with 20x magnification and 80mm objective for panoramic views, ideal for wildlife viewing. Requires a tripod due to its compact size, and comes with accessories like a case, straps, and instructions, making it suitable for use with a tripod.\n"
     ]
    }
   ],
   "source": [
    "try:\n",
    "    run_request = endpoint.run(input_payload)\n",
    "    # Initial check without blocking, useful for quick tasks\n",
    "    status = run_request.status()\n",
    "    print(f\"Initial job status: {status}\")\n",
    "\n",
    "    if status != \"COMPLETED\":\n",
    "        # Polling with timeout for long-running tasks\n",
    "        output = run_request.output(timeout=60)\n",
    "    else:\n",
    "        output = run_request.output()\n",
    "    print(f\"\\nJob output:\\n\\n{output}\")\n",
    "except Exception as e:\n",
    "    print(f\"An error occurred: {e}\")"
   ]
  },
  {
   "cell_type": "code",
   "execution_count": null,
   "metadata": {},
   "outputs": [],
   "source": []
  }
 ],
 "metadata": {
  "kernelspec": {
   "display_name": "nlp",
   "language": "python",
   "name": "python3"
  },
  "language_info": {
   "codemirror_mode": {
    "name": "ipython",
    "version": 3
   },
   "file_extension": ".py",
   "mimetype": "text/x-python",
   "name": "python",
   "nbconvert_exporter": "python",
   "pygments_lexer": "ipython3",
   "version": "3.10.13"
  }
 },
 "nbformat": 4,
 "nbformat_minor": 2
}
