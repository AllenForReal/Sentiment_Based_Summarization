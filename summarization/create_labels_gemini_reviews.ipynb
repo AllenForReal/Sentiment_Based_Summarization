{
 "cells": [
  {
   "cell_type": "code",
   "execution_count": 1,
   "id": "2f80d9b8-db62-49aa-a2a7-6abad960d7b5",
   "metadata": {},
   "outputs": [],
   "source": [
    "import gzip\n",
    "import json\n",
    "import jsonlines\n",
    "import os\n",
    "from tqdm.notebook import tqdm\n",
    "import time\n",
    "import pandas as pd\n",
    "\n",
    "import google.generativeai as genai\n",
    "genai.configure(api_key=\"\")"
   ]
  },
  {
   "cell_type": "code",
   "execution_count": 2,
   "id": "a5462729",
   "metadata": {},
   "outputs": [
    {
     "name": "stdout",
     "output_type": "stream",
     "text": [
      "models/gemini-1.0-pro\n",
      "models/gemini-1.0-pro-001\n",
      "models/gemini-1.0-pro-latest\n",
      "models/gemini-1.0-pro-vision-latest\n",
      "models/gemini-pro\n",
      "models/gemini-pro-vision\n"
     ]
    }
   ],
   "source": [
    "for m in genai.list_models():\n",
    "  if 'generateContent' in m.supported_generation_methods:\n",
    "    print(m.name)"
   ]
  },
  {
   "cell_type": "code",
   "execution_count": 3,
   "id": "f16f13fb",
   "metadata": {},
   "outputs": [],
   "source": [
    "model = genai.GenerativeModel('models/gemini-1.0-pro')"
   ]
  },
  {
   "cell_type": "code",
   "execution_count": 4,
   "id": "2f4d6a86",
   "metadata": {},
   "outputs": [],
   "source": [
    "def call_gemini_api(input_text):\n",
    "    \n",
    "    response = model.generate_content(input_text.strip(), safety_settings={'HARASSMENT':'block_none',\n",
    "                                                     'HATE_SPEECH': 'block_none',\n",
    "                                                     'HARM_CATEGORY_DANGEROUS_CONTENT': 'block_none',\n",
    "                                                     'HARM_CATEGORY_SEXUALLY_EXPLICIT': 'block_none'})\n",
    "    try:\n",
    "        return response.text\n",
    "    except Exception as e:\n",
    "        # print(response.prompt_feedback)\n",
    "        return \"UNSAFE\""
   ]
  },
  {
   "cell_type": "code",
   "execution_count": 5,
   "id": "2e79e421-ba2e-4a14-9ecc-e9232e9489ce",
   "metadata": {},
   "outputs": [],
   "source": [
    "# instruction = \"\"\"Below are the latest reviews of a product. Please examine it and compile a JSON object with \"pros\" and \"cons,\" each section having a few succinct points, and a \"verdict\". You must only output the json with the format: {\"pros\": [...], \"cons\": [...], \"verdict\": ...}.\\n\\nReview(s):\\n\"\"\""
   ]
  },
  {
   "cell_type": "code",
   "execution_count": 6,
   "id": "a8d4004a",
   "metadata": {},
   "outputs": [],
   "source": [
    "instruction = \"\"\"Here are the most recent reviews of a product. Analyze these and summarize in your own words to create a json containing pros, cons (each containing less than or equal to 5 concise points) and final verdict (overall review of this) in the form {\"pros\": [...], \"cons\": [...], \"verdict\": ...}\\n\\nReviews:\\n\"\"\""
   ]
  },
  {
   "cell_type": "code",
   "execution_count": 7,
   "id": "082ce2c0-9c15-4103-8098-451bdc911cd0",
   "metadata": {},
   "outputs": [],
   "source": [
    "def parse(path):\n",
    "    g = gzip.open(path, \"rb\")\n",
    "    for l in g:\n",
    "        yield json.loads(l)"
   ]
  },
  {
   "cell_type": "code",
   "execution_count": 8,
   "id": "e8ecc93e",
   "metadata": {},
   "outputs": [],
   "source": [
    "reviews_path = \"data/raw_compressed/reviews_5core\"\n",
    "labelled_path = \"data/labelled/reviews/train\"\n",
    "batch_size = 10"
   ]
  },
  {
   "cell_type": "code",
   "execution_count": 9,
   "id": "90974b53",
   "metadata": {},
   "outputs": [
    {
     "name": "stdout",
     "output_type": "stream",
     "text": [
      "resetting the limit\n",
      "resetting the limit\n",
      "resetting the limit\n",
      "resetting the limit\n",
      "resetting the limit\n",
      "resetting the limit\n",
      "resetting the limit\n",
      "resetting the limit\n",
      "resetting the limit\n",
      "resetting the limit\n",
      "resetting the limit\n",
      "resetting the limit\n",
      "resetting the limit\n",
      "resetting the limit\n",
      "resetting the limit\n",
      "resetting the limit\n",
      "resetting the limit\n",
      "resetting the limit\n",
      "resetting the limit\n",
      "resetting the limit\n",
      "resetting the limit\n",
      "resetting the limit\n",
      "resetting the limit\n",
      "resetting the limit\n",
      "resetting the limit\n",
      "resetting the limit\n",
      "resetting the limit\n",
      "resetting the limit\n",
      "resetting the limit\n",
      "resetting the limit\n",
      "resetting the limit\n",
      "resetting the limit\n",
      "resetting the limit\n",
      "resetting the limit\n",
      "resetting the limit\n",
      "resetting the limit\n",
      "resetting the limit\n",
      "resetting the limit\n",
      "resetting the limit\n",
      "resetting the limit\n",
      "resetting the limit\n",
      "resetting the limit\n",
      "resetting the limit\n",
      "resetting the limit\n",
      "resetting the limit\n",
      "resetting the limit\n",
      "resetting the limit\n",
      "resetting the limit\n",
      "resetting the limit\n",
      "resetting the limit\n",
      "resetting the limit\n",
      "resetting the limit\n"
     ]
    }
   ],
   "source": [
    "for review_file in os.listdir(reviews_path):\n",
    "    with jsonlines.open(os.path.join(labelled_path, f'{review_file.split(\".\")[0]}.jsonl'), mode=\"a\") as out_file:\n",
    "        data = {\"asin\": [], \"reviewText\": []}\n",
    "        for i in parse(os.path.join(reviews_path, review_file)):\n",
    "            if i.get('asin', None) and i.get('reviewText', None):\n",
    "                data['asin'].append(i['asin'])\n",
    "                data['reviewText'].append(i['reviewText'])\n",
    "                \n",
    "        grouped_df = pd.DataFrame(data).groupby(\"asin\")\n",
    "        \n",
    "        for asin, reviews_df in grouped_df:\n",
    "            reviews = reviews_df['reviewText'].values.tolist()\n",
    "            for i in range(0, len(reviews), batch_size):\n",
    "                reviews_ = \"- \"+\"\\n- \".join(reviews[i:i+batch_size])\n",
    "                gemini_inp = instruction+reviews_+\"\\n\\nOutput JSON:\"\n",
    "                \n",
    "                try:\n",
    "                    generated_text = call_gemini_api(gemini_inp)\n",
    "                    if generated_text!=\"UNSAFE\":\n",
    "                        out_json = json.loads(generated_text.strip().removeprefix(\"```json\").removeprefix(\"```\").removesuffix(\"```\").strip())\n",
    "                        if \"pros\" in out_json and \"cons\" in out_json and \"verdict\" in out_json:\n",
    "                            out_file.write({\"review_info\": reviews_, \"pros\": out_json[\"pros\"], \"cons\": out_json[\"cons\"], \"verdict\": out_json[\"verdict\"]})\n",
    "                except Exception as e:\n",
    "                    # print(e)\n",
    "                    # print(generated_text)\n",
    "                    if \"deadline\" in str(e).lower(): \n",
    "                        print(\"resetting the limit\")\n",
    "                        time.sleep(60)\n",
    "                    \n",
    "                \n",
    "    "
   ]
  },
  {
   "cell_type": "code",
   "execution_count": null,
   "id": "5575d6ed",
   "metadata": {},
   "outputs": [],
   "source": []
  }
 ],
 "metadata": {
  "kernelspec": {
   "display_name": "nlp",
   "language": "python",
   "name": "python3"
  },
  "language_info": {
   "codemirror_mode": {
    "name": "ipython",
    "version": 3
   },
   "file_extension": ".py",
   "mimetype": "text/x-python",
   "name": "python",
   "nbconvert_exporter": "python",
   "pygments_lexer": "ipython3",
   "version": "3.10.13"
  }
 },
 "nbformat": 4,
 "nbformat_minor": 5
}
