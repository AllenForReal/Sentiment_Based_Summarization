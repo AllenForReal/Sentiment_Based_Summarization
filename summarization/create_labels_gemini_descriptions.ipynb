{
 "cells": [
  {
   "cell_type": "code",
   "execution_count": 1,
   "id": "2f80d9b8-db62-49aa-a2a7-6abad960d7b5",
   "metadata": {},
   "outputs": [],
   "source": [
    "import gzip\n",
    "import json\n",
    "import jsonlines\n",
    "import os\n",
    "from tqdm.notebook import tqdm\n",
    "import time\n",
    "\n",
    "import google.generativeai as genai\n",
    "genai.configure(api_key=\"\")"
   ]
  },
  {
   "cell_type": "code",
   "execution_count": 2,
   "id": "a5462729",
   "metadata": {},
   "outputs": [
    {
     "name": "stdout",
     "output_type": "stream",
     "text": [
      "models/gemini-1.0-pro\n",
      "models/gemini-1.0-pro-001\n",
      "models/gemini-1.0-pro-latest\n",
      "models/gemini-1.0-pro-vision-latest\n",
      "models/gemini-pro\n",
      "models/gemini-pro-vision\n"
     ]
    }
   ],
   "source": [
    "for m in genai.list_models():\n",
    "  if 'generateContent' in m.supported_generation_methods:\n",
    "    print(m.name)"
   ]
  },
  {
   "cell_type": "code",
   "execution_count": 3,
   "id": "f16f13fb",
   "metadata": {},
   "outputs": [],
   "source": [
    "model = genai.GenerativeModel('models/gemini-1.0-pro')"
   ]
  },
  {
   "cell_type": "code",
   "execution_count": 4,
   "id": "2f4d6a86",
   "metadata": {},
   "outputs": [],
   "source": [
    "def call_gemini_api(input_text):\n",
    "    \n",
    "    response = model.generate_content(input_text.strip(), safety_settings={'HARASSMENT':'block_none',\n",
    "                                                     'HATE_SPEECH': 'block_none',\n",
    "                                                     'HARM_CATEGORY_DANGEROUS_CONTENT': 'block_none',\n",
    "                                                     'HARM_CATEGORY_SEXUALLY_EXPLICIT': 'block_none'})\n",
    "    try:\n",
    "        return response.text\n",
    "    except Exception as e:\n",
    "        # print(response.prompt_feedback)\n",
    "        return \"UNSAFE\""
   ]
  },
  {
   "cell_type": "code",
   "execution_count": 5,
   "id": "2e79e421-ba2e-4a14-9ecc-e9232e9489ce",
   "metadata": {},
   "outputs": [],
   "source": [
    "instruction = \"\"\"Give a concise summary for the below description of the product in the form {\"summary\": ...}.\\n\\nProduct Info:\\n\"\"\""
   ]
  },
  {
   "cell_type": "code",
   "execution_count": 6,
   "id": "082ce2c0-9c15-4103-8098-451bdc911cd0",
   "metadata": {},
   "outputs": [],
   "source": [
    "def parse(path):\n",
    "    g = gzip.open(path, \"rb\")\n",
    "    for l in g:\n",
    "        yield json.loads(l)"
   ]
  },
  {
   "cell_type": "code",
   "execution_count": 7,
   "id": "444a56f1-305d-477a-8509-e1dd106e3481",
   "metadata": {},
   "outputs": [],
   "source": [
    "def get_info_from_sample(sample:dict):\n",
    "    description = sample.get(\"description\", None)\n",
    "    if isinstance(description, list):\n",
    "        description = \" \".join(description)\n",
    "        \n",
    "    features = sample.get(\"features\", None)\n",
    "    if isinstance(features, list):\n",
    "        features = \"\\n- \" + \"\\n- \".join(features)\n",
    "    \n",
    "    if description and features:\n",
    "        return f\"\"\"Description:\\n{description}\\nFeatures:{features}\"\"\"\n",
    "    elif description:\n",
    "        return description\n",
    "    elif features:\n",
    "        return features\n",
    "    else:\n",
    "        return None"
   ]
  },
  {
   "cell_type": "code",
   "execution_count": 8,
   "id": "31567662",
   "metadata": {},
   "outputs": [],
   "source": [
    "sample = \"Product Description\\nThe best just got better. With proven 5th generation technology and form, the Motorola H700 Bluetooth Headset enhances the popular folding microphone design with superior audio performance, echo cancellation technology and an approximate 30% reduction in size. Discriminating consumers will welcome the Motorola H700 because it eliminates wires while delivering crisp, clear communications. With a 10-meter (30 feet) connectivity range, new levels of comfort and simple one-touch access to your most desired features, wireless has never looked so good.Designed for enhanced comfort while delivering a 30% reduction in size and weight from its predecessor, the super compact Motorola H700 delivers unbeatable comfort with an ergonomic ear hook that can be worn on either ear. With unsurpassed call quality and Motorola's exclusive PowerFlip design that lets you answer and end calls with ease, this headset optimizes on-the-go conversations - with style and simplicity.The Motorola H700 is the premium choice for those who are serious about wireless connectivity, offering up to six hours of talk time, 130 of standby time and charge time of less than one hour. Designed with your calls in mind, the headset features Bluetooth 1.2 wireless technology for better call quality, faster connections and less interference.Feature rich doesn't mean complicated. A blue light lets others know when you're on a call. The light changes colors to let you know when the headset is in pairing mode, charging or running low on battery power. The ability to connect with compatible devices up to 10 meters (30 feet) away helps you chat, sync and send - even when your mobile isn't in sight. Fashionable and functional, the Motorola H700 is the essential partner for serious mobile consumers.\""
   ]
  },
  {
   "cell_type": "code",
   "execution_count": 9,
   "id": "fce62edc",
   "metadata": {},
   "outputs": [],
   "source": [
    "mixtral_out = \"The Motorola H700 Bluetooth Headset is a compact and comfortable wireless headset with superior audio performance, echo cancellation technology, and a 30% reduction in size. It features up to six hours of talk time, 130 of standby time, and charge time of less than one hour. The headset is designed with your calls in mind, featuring Bluetooth 1.2 wireless technology for better call quality, faster connections, and less interference. The Motorola H700 is a fashionable and functional essential partner for serious mobile consumers.\""
   ]
  },
  {
   "cell_type": "code",
   "execution_count": 10,
   "id": "30142d54",
   "metadata": {},
   "outputs": [
    {
     "name": "stdout",
     "output_type": "stream",
     "text": [
      "Give a concise summary for the below description of the product in the form {\"summary\": ...}.\n",
      "\n",
      "Product Info:\n",
      "Product Description\n",
      "The best just got better. With proven 5th generation technology and form, the Motorola H700 Bluetooth Headset enhances the popular folding microphone design with superior audio performance, echo cancellation technology and an approximate 30% reduction in size. Discriminating consumers will welcome the Motorola H700 because it eliminates wires while delivering crisp, clear communications. With a 10-meter (30 feet) connectivity range, new levels of comfort and simple one-touch access to your most desired features, wireless has never looked so good.Designed for enhanced comfort while delivering a 30% reduction in size and weight from its predecessor, the super compact Motorola H700 delivers unbeatable comfort with an ergonomic ear hook that can be worn on either ear. With unsurpassed call quality and Motorola's exclusive PowerFlip design that lets you answer and end calls with ease, this headset optimizes on-the-go conversations - with style and simplicity.The Motorola H700 is the premium choice for those who are serious about wireless connectivity, offering up to six hours of talk time, 130 of standby time and charge time of less than one hour. Designed with your calls in mind, the headset features Bluetooth 1.2 wireless technology for better call quality, faster connections and less interference.Feature rich doesn't mean complicated. A blue light lets others know when you're on a call. The light changes colors to let you know when the headset is in pairing mode, charging or running low on battery power. The ability to connect with compatible devices up to 10 meters (30 feet) away helps you chat, sync and send - even when your mobile isn't in sight. Fashionable and functional, the Motorola H700 is the essential partner for serious mobile consumers.\n"
     ]
    }
   ],
   "source": [
    "print(instruction+sample)"
   ]
  },
  {
   "cell_type": "code",
   "execution_count": 11,
   "id": "589917a0",
   "metadata": {},
   "outputs": [
    {
     "name": "stdout",
     "output_type": "stream",
     "text": [
      "{\"summary\": \"The Motorola H700 Bluetooth Headset offers enhanced comfort and performance with a 30% size reduction. It provides crisp audio, echo cancellation, and a 10-meter connectivity range. Featuring a one-touch answer button, ergonomic ear hook, and PowerFlip design, it optimizes on-the-go conversations. With up to six hours of talk time, 130 hours of standby time, and Bluetooth 1.2 technology, it ensures reliable and interference-free connections.\"}\n"
     ]
    }
   ],
   "source": [
    "print(call_gemini_api(instruction+sample))"
   ]
  },
  {
   "cell_type": "code",
   "execution_count": 12,
   "id": "e1c01794-e2f3-4b6b-8a41-7955d4a2f322",
   "metadata": {},
   "outputs": [],
   "source": [
    "def get_labelled_data(input_file_path, out_dir, skiplines=0, filename=None):\n",
    "    inp_file_name = input_file_path.split(\"/\")[-1].strip()\n",
    "    with jsonlines.open(os.path.join(out_dir, f'{inp_file_name.split(\".\")[0]}.jsonl'), mode=\"a\") as out_file:\n",
    "        print(f\"Processing file - {input_file_path}\")\n",
    "        ct = 0\n",
    "        pred_ct = 0\n",
    "        for sample in parse(input_file_path):\n",
    "            ct+=1\n",
    "            if filename and filename==inp_file_name and ct<skiplines:\n",
    "                continue\n",
    "            if ct and ct%1000 == 0: print(f\"\\nProcessed {ct} products so far. Additional/Total labelled - {pred_ct} samples...\")\n",
    "\n",
    "            info = get_info_from_sample(sample)\n",
    "            if info and len(info.split())>50:\n",
    "                try:\n",
    "                    generated_text = call_gemini_api(instruction+info)\n",
    "                    if generated_text!=\"UNSAFE\": out_file.write({\"product_info\": info, \"summary\": json.loads(generated_text.strip())[\"summary\"]})\n",
    "                    pred_ct+=1\n",
    "                    # generated_text=\"\"\n",
    "                except Exception as e:\n",
    "                    # print(e)\n",
    "                    # if generated_text: print(generated_text)\n",
    "                    if \"deadline\" in str(e).lower(): \n",
    "                        print(\"resetting the limit\")\n",
    "                        time.sleep(60)\n",
    "    return pred_ct"
   ]
  },
  {
   "cell_type": "code",
   "execution_count": null,
   "id": "46ed44c4-c77e-4928-8e7a-22cb3b2f848b",
   "metadata": {
    "scrolled": true,
    "tags": []
   },
   "outputs": [],
   "source": [
    "get_labelled_data(\"data/raw_compressed/metadata/train/meta_Electronics.json.gz\", \"data/labelled/metadata/train\", 154000, \"meta_Electronics.json.gz\")"
   ]
  },
  {
   "cell_type": "code",
   "execution_count": null,
   "id": "adb03593-1018-4cc8-b926-144d50a1ae72",
   "metadata": {},
   "outputs": [],
   "source": [
    "#SBATCH --job-name=create_labels_nlp_project\n",
    "#SBATCH --partition=gpu\n",
    "#SBATCH --nodes=1\n",
    "#SBATCH --ntasks=1\n",
    "#SBATCH --cpus-per-task=4\n",
    "#SBATCH --mem=16G\n",
    "#SBATCH --gres=gpu:v100-sxm2:1\n",
    "#SBATCH --time=6:00:00\n",
    "#SBATCH -o %J.log\n",
    "#SBATCH -e %J.log"
   ]
  }
 ],
 "metadata": {
  "kernelspec": {
   "display_name": "nlp",
   "language": "python",
   "name": "python3"
  },
  "language_info": {
   "codemirror_mode": {
    "name": "ipython",
    "version": 3
   },
   "file_extension": ".py",
   "mimetype": "text/x-python",
   "name": "python",
   "nbconvert_exporter": "python",
   "pygments_lexer": "ipython3",
   "version": "3.10.13"
  }
 },
 "nbformat": 4,
 "nbformat_minor": 5
}
