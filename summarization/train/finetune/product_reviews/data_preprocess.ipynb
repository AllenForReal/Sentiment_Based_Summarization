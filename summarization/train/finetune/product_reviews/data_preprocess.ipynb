{
 "cells": [
  {
   "cell_type": "code",
   "execution_count": 1,
   "metadata": {},
   "outputs": [],
   "source": [
    "import pandas as pd\n",
    "from sklearn.model_selection import train_test_split\n",
    "import os\n",
    "from pandarallel import pandarallel"
   ]
  },
  {
   "cell_type": "code",
   "execution_count": 2,
   "metadata": {},
   "outputs": [
    {
     "name": "stdout",
     "output_type": "stream",
     "text": [
      "INFO: Pandarallel will run on 8 workers.\n",
      "INFO: Pandarallel will use standard multiprocessing data transfer (pipe) to transfer data between the main process and workers.\n"
     ]
    }
   ],
   "source": [
    "pandarallel.initialize(progress_bar=True)"
   ]
  },
  {
   "cell_type": "code",
   "execution_count": 50,
   "metadata": {},
   "outputs": [],
   "source": [
    "data = \"../../../data/labelled/reviews/train\""
   ]
  },
  {
   "cell_type": "markdown",
   "metadata": {},
   "source": [
    "### cell_accesses"
   ]
  },
  {
   "cell_type": "code",
   "execution_count": 51,
   "metadata": {},
   "outputs": [],
   "source": [
    "cell_access = pd.read_json(os.path.join(data, \"./Cell_Phones_and_Accessories_5.jsonl\"), lines=True)"
   ]
  },
  {
   "cell_type": "code",
   "execution_count": 5,
   "metadata": {},
   "outputs": [
    {
     "data": {
      "text/html": [
       "<div>\n",
       "<style scoped>\n",
       "    .dataframe tbody tr th:only-of-type {\n",
       "        vertical-align: middle;\n",
       "    }\n",
       "\n",
       "    .dataframe tbody tr th {\n",
       "        vertical-align: top;\n",
       "    }\n",
       "\n",
       "    .dataframe thead th {\n",
       "        text-align: right;\n",
       "    }\n",
       "</style>\n",
       "<table border=\"1\" class=\"dataframe\">\n",
       "  <thead>\n",
       "    <tr style=\"text-align: right;\">\n",
       "      <th></th>\n",
       "      <th>review_info</th>\n",
       "      <th>pros</th>\n",
       "      <th>cons</th>\n",
       "      <th>verdict</th>\n",
       "    </tr>\n",
       "  </thead>\n",
       "  <tbody>\n",
       "    <tr>\n",
       "      <th>0</th>\n",
       "      <td>- Looks even better in person. Be careful to n...</td>\n",
       "      <td>[Looks great in person, Affordable, Fits perfe...</td>\n",
       "      <td>[Rhinestones fall off easily, Not very protect...</td>\n",
       "      <td>This case is a decorative item that fits secur...</td>\n",
       "    </tr>\n",
       "    <tr>\n",
       "      <th>1</th>\n",
       "      <td>- its super cute and makes my phone pretting a...</td>\n",
       "      <td>[Cute and sparkly, Unique and well-made, Beaut...</td>\n",
       "      <td>[Broke easily, Jewels fall off easily, Bow cam...</td>\n",
       "      <td>Overall, this product is cute, sparkly, and we...</td>\n",
       "    </tr>\n",
       "  </tbody>\n",
       "</table>\n",
       "</div>"
      ],
      "text/plain": [
       "                                         review_info  \\\n",
       "0  - Looks even better in person. Be careful to n...   \n",
       "1  - its super cute and makes my phone pretting a...   \n",
       "\n",
       "                                                pros  \\\n",
       "0  [Looks great in person, Affordable, Fits perfe...   \n",
       "1  [Cute and sparkly, Unique and well-made, Beaut...   \n",
       "\n",
       "                                                cons  \\\n",
       "0  [Rhinestones fall off easily, Not very protect...   \n",
       "1  [Broke easily, Jewels fall off easily, Bow cam...   \n",
       "\n",
       "                                             verdict  \n",
       "0  This case is a decorative item that fits secur...  \n",
       "1  Overall, this product is cute, sparkly, and we...  "
      ]
     },
     "execution_count": 5,
     "metadata": {},
     "output_type": "execute_result"
    }
   ],
   "source": [
    "cell_access.head(2)"
   ]
  },
  {
   "cell_type": "code",
   "execution_count": 6,
   "metadata": {},
   "outputs": [],
   "source": [
    "input_prompt = \"Below are the reviews of a product: \\n\"\n",
    "task_prompt = \"\\n\\nWhat are the pros, cons, and verdict for this product?\""
   ]
  },
  {
   "cell_type": "code",
   "execution_count": 7,
   "metadata": {},
   "outputs": [
    {
     "name": "stdout",
     "output_type": "stream",
     "text": [
      "Below are the reviews of a product: \n",
      "- Looks even better in person. Be careful to not drop your phone so often because the rhinestones will fall off (duh). More of a decorative case than it is protective, but I will say that it fits perfectly and securely on my phone. Overall, very pleased with this purchase.\n",
      "- When you don't want to spend a whole lot of cash but want a great deal...this is the shop to buy from!\n",
      "- so the case came on time, i love the design. I'm actually missing 2 studs but nothing too noticeable the studding is almost a bit sloppy around the bow, but once again not too noticeable. I haven't put in my phone yet so this is just what I've notice so far\n",
      "- DON'T CARE FOR IT.  GAVE IT AS A GIFT AND THEY WERE OKAY WITH IT.  JUST NOT WHAT I EXPECTED.\n",
      "- I liked it because it was cute, but the studs fall off easily and to protect a phone this would not be recommended. Buy if you just like it for looks.\n",
      "- The product looked exactly like the picture and it was very nice. However only days later it fell apart. I'm very disappointed with the quality of the product.\n",
      "- I FINALLY got my case today. It took forever to get here! It's cute and looks just like the pic. Like right after I wrote this review some of the rhinestones started falling off. The package does come with glue to glue them back on but in my opinion this case is only good for a couple of days (if that.) I wouldn't purchase another. Thanks you\n",
      "- It is a very cute case. None of the jewels have fallen off and the bow is glued on very well. Came in the time frame that was given and I'm happy with this purchase. The only thing you might want to know is, I carry my phone in my jeans and it does fit very tightly because it is a big bow. You have to be careful but worth it.\n",
      "- DO NOT BUY! this item is seriously cheap as heck. not worth buying it at all. I didn't even get to use it and it was already losing all of its gems. I wish I got my money back on this item!!\n",
      "- I really love this case... you have to keep your phone face down all the time, but it's pretty good quality. Some stones come off from normal use, unless you keep it in your purse all day.\n",
      "\n",
      "What are the pros, cons, and verdict for this product?\n"
     ]
    }
   ],
   "source": [
    "print(f\"{input_prompt}{cell_access.review_info[0]}{task_prompt}\")"
   ]
  },
  {
   "cell_type": "code",
   "execution_count": 8,
   "metadata": {},
   "outputs": [],
   "source": [
    "out = \"\"\"pros:\\n{pros}\\n\\ncons:\\n{cons}\\n\\nverdict:\\n{verdict}\"\"\""
   ]
  },
  {
   "cell_type": "code",
   "execution_count": 9,
   "metadata": {},
   "outputs": [
    {
     "name": "stdout",
     "output_type": "stream",
     "text": [
      "pros:\n",
      "- Looks great in person\n",
      "- Affordable\n",
      "- Fits perfectly on phone\n",
      "- Cute design\n",
      "- Sturdy bow\n",
      "\n",
      "cons:\n",
      "- Rhinestones fall off easily\n",
      "- Not very protective\n",
      "- Stud placement can be sloppy and uneven\n",
      "- Rhinestones can start falling off immediately after receiving\n",
      "- Not suitable for carrying in jeans pockets\n",
      "\n",
      "verdict:\n",
      "This case is a decorative item that fits securely on your phone but offers minimal protection due to the loose rhinestones. While it appears visually appealing, it requires careful handling to prevent further rhinestone loss. Consider purchasing it if you prioritize aesthetics over functionality.\n"
     ]
    }
   ],
   "source": [
    "pros = cell_access.pros[0]\n",
    "cons = cell_access.cons[0]\n",
    "verdict = cell_access.verdict[0]\n",
    "\n",
    "if pros:\n",
    "    pros_ = \"- \"+\"\\n- \".join(pros)\n",
    "else:\n",
    "    pros_ = \"None\"\n",
    "    \n",
    "if cons:\n",
    "    cons_ = \"- \"+\"\\n- \".join(cons)\n",
    "else:\n",
    "    cons_ = \"None\"\n",
    "    \n",
    "if verdict:\n",
    "    verdict_ = verdict.strip()\n",
    "else:\n",
    "    verdict_ = \"None\"\n",
    "\n",
    "print(out.format_map({\"pros\": pros_, \"cons\": cons_, \"verdict\": verdict}))"
   ]
  },
  {
   "cell_type": "code",
   "execution_count": 10,
   "metadata": {},
   "outputs": [],
   "source": [
    "def format_input(row: pd.Series):\n",
    "    return f\"{input_prompt}{row.review_info}{task_prompt}\""
   ]
  },
  {
   "cell_type": "code",
   "execution_count": 11,
   "metadata": {},
   "outputs": [],
   "source": [
    "def format_labels(row: pd.Series):\n",
    "    \n",
    "    try:\n",
    "        if row.pros:\n",
    "            pros_ = \"- \"+\"\\n- \".join(row.pros)\n",
    "        else:\n",
    "            pros_ = \"None\"\n",
    "            \n",
    "        if row.cons:\n",
    "            cons_ = \"- \"+\"\\n- \".join(row.cons)\n",
    "        else:\n",
    "            cons_ = \"None\"\n",
    "            \n",
    "        if row.verdict:\n",
    "            if isinstance(row.verdict, list):\n",
    "                verdict_ = \" \".join(row.verdict)\n",
    "            else:\n",
    "                verdict_ = row.verdict.strip()\n",
    "        else:\n",
    "            verdict_ = \"None\"\n",
    "            \n",
    "        return out.format_map({\"pros\": pros_, \"cons\": cons_, \"verdict\": verdict_})\n",
    "    except Exception as e:\n",
    "        return None"
   ]
  },
  {
   "cell_type": "code",
   "execution_count": 12,
   "metadata": {},
   "outputs": [
    {
     "name": "stdout",
     "output_type": "stream",
     "text": [
      "<class 'pandas.core.frame.DataFrame'>\n",
      "RangeIndex: 129601 entries, 0 to 129600\n",
      "Data columns (total 4 columns):\n",
      " #   Column       Non-Null Count   Dtype \n",
      "---  ------       --------------   ----- \n",
      " 0   review_info  129601 non-null  object\n",
      " 1   pros         129601 non-null  object\n",
      " 2   cons         129601 non-null  object\n",
      " 3   verdict      129091 non-null  object\n",
      "dtypes: object(4)\n",
      "memory usage: 4.0+ MB\n"
     ]
    }
   ],
   "source": [
    "cell_access.info()"
   ]
  },
  {
   "cell_type": "code",
   "execution_count": 13,
   "metadata": {},
   "outputs": [],
   "source": [
    "cell_access.dropna(subset=['verdict'], inplace=True)\n",
    "cell_access.reset_index(drop=True, inplace=True)"
   ]
  },
  {
   "cell_type": "code",
   "execution_count": 14,
   "metadata": {},
   "outputs": [
    {
     "data": {
      "application/vnd.jupyter.widget-view+json": {
       "model_id": "409f6f827bb1420d9ef4c171cb716e4b",
       "version_major": 2,
       "version_minor": 0
      },
      "text/plain": [
       "VBox(children=(HBox(children=(IntProgress(value=0, description='0.00%', max=16137), Label(value='0 / 16137')))…"
      ]
     },
     "metadata": {},
     "output_type": "display_data"
    }
   ],
   "source": [
    "cell_access[\"input_reviews\"] = cell_access.parallel_apply(format_input, axis=1)"
   ]
  },
  {
   "cell_type": "code",
   "execution_count": 15,
   "metadata": {},
   "outputs": [
    {
     "data": {
      "application/vnd.jupyter.widget-view+json": {
       "model_id": "4d4eac0f8edd439fae9b0b3fe4a2f070",
       "version_major": 2,
       "version_minor": 0
      },
      "text/plain": [
       "VBox(children=(HBox(children=(IntProgress(value=0, description='0.00%', max=16137), Label(value='0 / 16137')))…"
      ]
     },
     "metadata": {},
     "output_type": "display_data"
    }
   ],
   "source": [
    "cell_access[\"label_reviews\"] = cell_access.parallel_apply(format_labels, axis=1)"
   ]
  },
  {
   "cell_type": "code",
   "execution_count": 16,
   "metadata": {},
   "outputs": [
    {
     "name": "stdout",
     "output_type": "stream",
     "text": [
      "<class 'pandas.core.frame.DataFrame'>\n",
      "RangeIndex: 129091 entries, 0 to 129090\n",
      "Data columns (total 6 columns):\n",
      " #   Column         Non-Null Count   Dtype \n",
      "---  ------         --------------   ----- \n",
      " 0   review_info    129091 non-null  object\n",
      " 1   pros           129091 non-null  object\n",
      " 2   cons           129091 non-null  object\n",
      " 3   verdict        129091 non-null  object\n",
      " 4   input_reviews  129091 non-null  object\n",
      " 5   label_reviews  129087 non-null  object\n",
      "dtypes: object(6)\n",
      "memory usage: 5.9+ MB\n"
     ]
    }
   ],
   "source": [
    "cell_access.info()"
   ]
  },
  {
   "cell_type": "code",
   "execution_count": 17,
   "metadata": {},
   "outputs": [],
   "source": [
    "cell_access.dropna(subset=['label_reviews'], inplace=True)\n",
    "cell_access.reset_index(drop=True, inplace=True)"
   ]
  },
  {
   "cell_type": "code",
   "execution_count": 18,
   "metadata": {},
   "outputs": [
    {
     "data": {
      "text/plain": [
       "(129087, 6)"
      ]
     },
     "execution_count": 18,
     "metadata": {},
     "output_type": "execute_result"
    }
   ],
   "source": [
    "cell_access.shape"
   ]
  },
  {
   "cell_type": "code",
   "execution_count": 19,
   "metadata": {},
   "outputs": [
    {
     "data": {
      "text/html": [
       "<div>\n",
       "<style scoped>\n",
       "    .dataframe tbody tr th:only-of-type {\n",
       "        vertical-align: middle;\n",
       "    }\n",
       "\n",
       "    .dataframe tbody tr th {\n",
       "        vertical-align: top;\n",
       "    }\n",
       "\n",
       "    .dataframe thead th {\n",
       "        text-align: right;\n",
       "    }\n",
       "</style>\n",
       "<table border=\"1\" class=\"dataframe\">\n",
       "  <thead>\n",
       "    <tr style=\"text-align: right;\">\n",
       "      <th></th>\n",
       "      <th>review_info</th>\n",
       "      <th>pros</th>\n",
       "      <th>cons</th>\n",
       "      <th>verdict</th>\n",
       "      <th>input_reviews</th>\n",
       "      <th>label_reviews</th>\n",
       "    </tr>\n",
       "  </thead>\n",
       "  <tbody>\n",
       "    <tr>\n",
       "      <th>0</th>\n",
       "      <td>- Looks even better in person. Be careful to n...</td>\n",
       "      <td>[Looks great in person, Affordable, Fits perfe...</td>\n",
       "      <td>[Rhinestones fall off easily, Not very protect...</td>\n",
       "      <td>This case is a decorative item that fits secur...</td>\n",
       "      <td>Below are the reviews of a product: \\n- Looks ...</td>\n",
       "      <td>pros:\\n- Looks great in person\\n- Affordable\\n...</td>\n",
       "    </tr>\n",
       "    <tr>\n",
       "      <th>1</th>\n",
       "      <td>- its super cute and makes my phone pretting a...</td>\n",
       "      <td>[Cute and sparkly, Unique and well-made, Beaut...</td>\n",
       "      <td>[Broke easily, Jewels fall off easily, Bow cam...</td>\n",
       "      <td>Overall, this product is cute, sparkly, and we...</td>\n",
       "      <td>Below are the reviews of a product: \\n- its su...</td>\n",
       "      <td>pros:\\n- Cute and sparkly\\n- Unique and well-m...</td>\n",
       "    </tr>\n",
       "  </tbody>\n",
       "</table>\n",
       "</div>"
      ],
      "text/plain": [
       "                                         review_info  \\\n",
       "0  - Looks even better in person. Be careful to n...   \n",
       "1  - its super cute and makes my phone pretting a...   \n",
       "\n",
       "                                                pros  \\\n",
       "0  [Looks great in person, Affordable, Fits perfe...   \n",
       "1  [Cute and sparkly, Unique and well-made, Beaut...   \n",
       "\n",
       "                                                cons  \\\n",
       "0  [Rhinestones fall off easily, Not very protect...   \n",
       "1  [Broke easily, Jewels fall off easily, Bow cam...   \n",
       "\n",
       "                                             verdict  \\\n",
       "0  This case is a decorative item that fits secur...   \n",
       "1  Overall, this product is cute, sparkly, and we...   \n",
       "\n",
       "                                       input_reviews  \\\n",
       "0  Below are the reviews of a product: \\n- Looks ...   \n",
       "1  Below are the reviews of a product: \\n- its su...   \n",
       "\n",
       "                                       label_reviews  \n",
       "0  pros:\\n- Looks great in person\\n- Affordable\\n...  \n",
       "1  pros:\\n- Cute and sparkly\\n- Unique and well-m...  "
      ]
     },
     "execution_count": 19,
     "metadata": {},
     "output_type": "execute_result"
    }
   ],
   "source": [
    "cell_access.head(2)"
   ]
  },
  {
   "cell_type": "code",
   "execution_count": 20,
   "metadata": {},
   "outputs": [
    {
     "name": "stdout",
     "output_type": "stream",
     "text": [
      "<class 'pandas.core.frame.DataFrame'>\n",
      "RangeIndex: 129087 entries, 0 to 129086\n",
      "Data columns (total 6 columns):\n",
      " #   Column         Non-Null Count   Dtype \n",
      "---  ------         --------------   ----- \n",
      " 0   review_info    129087 non-null  object\n",
      " 1   pros           129087 non-null  object\n",
      " 2   cons           129087 non-null  object\n",
      " 3   verdict        129087 non-null  object\n",
      " 4   input_reviews  129087 non-null  object\n",
      " 5   label_reviews  129087 non-null  object\n",
      "dtypes: object(6)\n",
      "memory usage: 5.9+ MB\n"
     ]
    }
   ],
   "source": [
    "cell_access.info()"
   ]
  },
  {
   "cell_type": "code",
   "execution_count": 21,
   "metadata": {},
   "outputs": [],
   "source": [
    "cell_access['category'] = [\"cell_phones_accessories\"]*len(cell_access)"
   ]
  },
  {
   "cell_type": "code",
   "execution_count": 22,
   "metadata": {},
   "outputs": [
    {
     "data": {
      "text/html": [
       "<div>\n",
       "<style scoped>\n",
       "    .dataframe tbody tr th:only-of-type {\n",
       "        vertical-align: middle;\n",
       "    }\n",
       "\n",
       "    .dataframe tbody tr th {\n",
       "        vertical-align: top;\n",
       "    }\n",
       "\n",
       "    .dataframe thead th {\n",
       "        text-align: right;\n",
       "    }\n",
       "</style>\n",
       "<table border=\"1\" class=\"dataframe\">\n",
       "  <thead>\n",
       "    <tr style=\"text-align: right;\">\n",
       "      <th></th>\n",
       "      <th>review_info</th>\n",
       "      <th>pros</th>\n",
       "      <th>cons</th>\n",
       "      <th>verdict</th>\n",
       "      <th>input_reviews</th>\n",
       "      <th>label_reviews</th>\n",
       "      <th>category</th>\n",
       "    </tr>\n",
       "  </thead>\n",
       "  <tbody>\n",
       "    <tr>\n",
       "      <th>0</th>\n",
       "      <td>- Looks even better in person. Be careful to n...</td>\n",
       "      <td>[Looks great in person, Affordable, Fits perfe...</td>\n",
       "      <td>[Rhinestones fall off easily, Not very protect...</td>\n",
       "      <td>This case is a decorative item that fits secur...</td>\n",
       "      <td>Below are the reviews of a product: \\n- Looks ...</td>\n",
       "      <td>pros:\\n- Looks great in person\\n- Affordable\\n...</td>\n",
       "      <td>cell_phones_accessories</td>\n",
       "    </tr>\n",
       "    <tr>\n",
       "      <th>1</th>\n",
       "      <td>- its super cute and makes my phone pretting a...</td>\n",
       "      <td>[Cute and sparkly, Unique and well-made, Beaut...</td>\n",
       "      <td>[Broke easily, Jewels fall off easily, Bow cam...</td>\n",
       "      <td>Overall, this product is cute, sparkly, and we...</td>\n",
       "      <td>Below are the reviews of a product: \\n- its su...</td>\n",
       "      <td>pros:\\n- Cute and sparkly\\n- Unique and well-m...</td>\n",
       "      <td>cell_phones_accessories</td>\n",
       "    </tr>\n",
       "  </tbody>\n",
       "</table>\n",
       "</div>"
      ],
      "text/plain": [
       "                                         review_info  \\\n",
       "0  - Looks even better in person. Be careful to n...   \n",
       "1  - its super cute and makes my phone pretting a...   \n",
       "\n",
       "                                                pros  \\\n",
       "0  [Looks great in person, Affordable, Fits perfe...   \n",
       "1  [Cute and sparkly, Unique and well-made, Beaut...   \n",
       "\n",
       "                                                cons  \\\n",
       "0  [Rhinestones fall off easily, Not very protect...   \n",
       "1  [Broke easily, Jewels fall off easily, Bow cam...   \n",
       "\n",
       "                                             verdict  \\\n",
       "0  This case is a decorative item that fits secur...   \n",
       "1  Overall, this product is cute, sparkly, and we...   \n",
       "\n",
       "                                       input_reviews  \\\n",
       "0  Below are the reviews of a product: \\n- Looks ...   \n",
       "1  Below are the reviews of a product: \\n- its su...   \n",
       "\n",
       "                                       label_reviews                 category  \n",
       "0  pros:\\n- Looks great in person\\n- Affordable\\n...  cell_phones_accessories  \n",
       "1  pros:\\n- Cute and sparkly\\n- Unique and well-m...  cell_phones_accessories  "
      ]
     },
     "execution_count": 22,
     "metadata": {},
     "output_type": "execute_result"
    }
   ],
   "source": [
    "cell_access.head(2)"
   ]
  },
  {
   "cell_type": "code",
   "execution_count": 23,
   "metadata": {},
   "outputs": [
    {
     "name": "stdout",
     "output_type": "stream",
     "text": [
      "avg length of input: 452.4703572009575\n"
     ]
    }
   ],
   "source": [
    "lengths = list(map(len, list(map(str.split, cell_access.input_reviews.to_list()))))\n",
    "print(f\"avg length of input: {sum(lengths)/len(lengths)}\")"
   ]
  },
  {
   "cell_type": "code",
   "execution_count": 24,
   "metadata": {},
   "outputs": [
    {
     "name": "stdout",
     "output_type": "stream",
     "text": [
      "avg length of output: 99.27260684654536\n"
     ]
    }
   ],
   "source": [
    "lengths = list(map(len, list(map(str.split, cell_access.label_reviews.to_list()))))\n",
    "print(f\"avg length of output: {sum(lengths)/len(lengths)}\")"
   ]
  },
  {
   "cell_type": "markdown",
   "metadata": {},
   "source": [
    "### electronics"
   ]
  },
  {
   "cell_type": "code",
   "execution_count": 25,
   "metadata": {},
   "outputs": [],
   "source": [
    "elecs = pd.read_json(os.path.join(data, \"./Electronics_5.jsonl\"), lines=True)"
   ]
  },
  {
   "cell_type": "code",
   "execution_count": 26,
   "metadata": {},
   "outputs": [
    {
     "data": {
      "text/plain": [
       "(78416, 4)"
      ]
     },
     "execution_count": 26,
     "metadata": {},
     "output_type": "execute_result"
    }
   ],
   "source": [
    "elecs.shape"
   ]
  },
  {
   "cell_type": "code",
   "execution_count": 27,
   "metadata": {},
   "outputs": [
    {
     "name": "stdout",
     "output_type": "stream",
     "text": [
      "<class 'pandas.core.frame.DataFrame'>\n",
      "RangeIndex: 78416 entries, 0 to 78415\n",
      "Data columns (total 4 columns):\n",
      " #   Column       Non-Null Count  Dtype \n",
      "---  ------       --------------  ----- \n",
      " 0   review_info  78416 non-null  object\n",
      " 1   pros         78416 non-null  object\n",
      " 2   cons         78416 non-null  object\n",
      " 3   verdict      78241 non-null  object\n",
      "dtypes: object(4)\n",
      "memory usage: 2.4+ MB\n"
     ]
    }
   ],
   "source": [
    "elecs.info()"
   ]
  },
  {
   "cell_type": "code",
   "execution_count": 28,
   "metadata": {},
   "outputs": [],
   "source": [
    "elecs.dropna(subset=['verdict'], inplace=True)\n",
    "elecs.reset_index(drop=True, inplace=True)"
   ]
  },
  {
   "cell_type": "code",
   "execution_count": 29,
   "metadata": {},
   "outputs": [
    {
     "data": {
      "application/vnd.jupyter.widget-view+json": {
       "model_id": "2f302b7ba04f4a1490f517028f218186",
       "version_major": 2,
       "version_minor": 0
      },
      "text/plain": [
       "VBox(children=(HBox(children=(IntProgress(value=0, description='0.00%', max=9781), Label(value='0 / 9781'))), …"
      ]
     },
     "metadata": {},
     "output_type": "display_data"
    }
   ],
   "source": [
    "elecs[\"input_reviews\"] = elecs.parallel_apply(format_input, axis=1)"
   ]
  },
  {
   "cell_type": "code",
   "execution_count": 30,
   "metadata": {},
   "outputs": [
    {
     "data": {
      "application/vnd.jupyter.widget-view+json": {
       "model_id": "e7cf44a46a7643d8b81ef4910c28e7b3",
       "version_major": 2,
       "version_minor": 0
      },
      "text/plain": [
       "VBox(children=(HBox(children=(IntProgress(value=0, description='0.00%', max=9781), Label(value='0 / 9781'))), …"
      ]
     },
     "metadata": {},
     "output_type": "display_data"
    }
   ],
   "source": [
    "elecs[\"label_reviews\"] = elecs.parallel_apply(format_labels, axis=1)"
   ]
  },
  {
   "cell_type": "code",
   "execution_count": 31,
   "metadata": {},
   "outputs": [
    {
     "name": "stdout",
     "output_type": "stream",
     "text": [
      "<class 'pandas.core.frame.DataFrame'>\n",
      "RangeIndex: 78241 entries, 0 to 78240\n",
      "Data columns (total 6 columns):\n",
      " #   Column         Non-Null Count  Dtype \n",
      "---  ------         --------------  ----- \n",
      " 0   review_info    78241 non-null  object\n",
      " 1   pros           78241 non-null  object\n",
      " 2   cons           78241 non-null  object\n",
      " 3   verdict        78241 non-null  object\n",
      " 4   input_reviews  78241 non-null  object\n",
      " 5   label_reviews  78236 non-null  object\n",
      "dtypes: object(6)\n",
      "memory usage: 3.6+ MB\n"
     ]
    }
   ],
   "source": [
    "elecs.info()"
   ]
  },
  {
   "cell_type": "code",
   "execution_count": 32,
   "metadata": {},
   "outputs": [],
   "source": [
    "elecs.dropna(subset=['label_reviews'], inplace=True)\n",
    "elecs.reset_index(drop=True, inplace=True)"
   ]
  },
  {
   "cell_type": "code",
   "execution_count": 33,
   "metadata": {},
   "outputs": [],
   "source": [
    "elecs['category'] = [\"electronics\"]*len(elecs)"
   ]
  },
  {
   "cell_type": "code",
   "execution_count": 34,
   "metadata": {},
   "outputs": [
    {
     "data": {
      "text/html": [
       "<div>\n",
       "<style scoped>\n",
       "    .dataframe tbody tr th:only-of-type {\n",
       "        vertical-align: middle;\n",
       "    }\n",
       "\n",
       "    .dataframe tbody tr th {\n",
       "        vertical-align: top;\n",
       "    }\n",
       "\n",
       "    .dataframe thead th {\n",
       "        text-align: right;\n",
       "    }\n",
       "</style>\n",
       "<table border=\"1\" class=\"dataframe\">\n",
       "  <thead>\n",
       "    <tr style=\"text-align: right;\">\n",
       "      <th></th>\n",
       "      <th>review_info</th>\n",
       "      <th>pros</th>\n",
       "      <th>cons</th>\n",
       "      <th>verdict</th>\n",
       "      <th>input_reviews</th>\n",
       "      <th>label_reviews</th>\n",
       "      <th>category</th>\n",
       "    </tr>\n",
       "  </thead>\n",
       "  <tbody>\n",
       "    <tr>\n",
       "      <th>0</th>\n",
       "      <td>- I figured out how to use it.  It's okay for ...</td>\n",
       "      <td>[Affordable price compared to other brands wit...</td>\n",
       "      <td>[Does not record in stereo, Display is hard to...</td>\n",
       "      <td>This is a budget-friendly MP3 player with some...</td>\n",
       "      <td>Below are the reviews of a product: \\n- I figu...</td>\n",
       "      <td>pros:\\n- Affordable price compared to other br...</td>\n",
       "      <td>electronics</td>\n",
       "    </tr>\n",
       "    <tr>\n",
       "      <th>1</th>\n",
       "      <td>- still playing this item everyday, no problem...</td>\n",
       "      <td>[Plays MP1, MP2, MP3, WMA, WMV, ASF and WAV au...</td>\n",
       "      <td>[FM radio reception was weak and unreliable, T...</td>\n",
       "      <td>This MP3 player receives mixed reviews, with s...</td>\n",
       "      <td>Below are the reviews of a product: \\n- still ...</td>\n",
       "      <td>pros:\\n- Plays MP1, MP2, MP3, WMA, WMV, ASF an...</td>\n",
       "      <td>electronics</td>\n",
       "    </tr>\n",
       "  </tbody>\n",
       "</table>\n",
       "</div>"
      ],
      "text/plain": [
       "                                         review_info  \\\n",
       "0  - I figured out how to use it.  It's okay for ...   \n",
       "1  - still playing this item everyday, no problem...   \n",
       "\n",
       "                                                pros  \\\n",
       "0  [Affordable price compared to other brands wit...   \n",
       "1  [Plays MP1, MP2, MP3, WMA, WMV, ASF and WAV au...   \n",
       "\n",
       "                                                cons  \\\n",
       "0  [Does not record in stereo, Display is hard to...   \n",
       "1  [FM radio reception was weak and unreliable, T...   \n",
       "\n",
       "                                             verdict  \\\n",
       "0  This is a budget-friendly MP3 player with some...   \n",
       "1  This MP3 player receives mixed reviews, with s...   \n",
       "\n",
       "                                       input_reviews  \\\n",
       "0  Below are the reviews of a product: \\n- I figu...   \n",
       "1  Below are the reviews of a product: \\n- still ...   \n",
       "\n",
       "                                       label_reviews     category  \n",
       "0  pros:\\n- Affordable price compared to other br...  electronics  \n",
       "1  pros:\\n- Plays MP1, MP2, MP3, WMA, WMV, ASF an...  electronics  "
      ]
     },
     "execution_count": 34,
     "metadata": {},
     "output_type": "execute_result"
    }
   ],
   "source": [
    "elecs.head(2)"
   ]
  },
  {
   "cell_type": "code",
   "execution_count": 35,
   "metadata": {},
   "outputs": [
    {
     "name": "stdout",
     "output_type": "stream",
     "text": [
      "avg length of input: 687.1229229510711\n"
     ]
    }
   ],
   "source": [
    "lengths = list(map(len, list(map(str.split, elecs.input_reviews.to_list()))))\n",
    "print(f\"avg length of input: {sum(lengths)/len(lengths)}\")"
   ]
  },
  {
   "cell_type": "code",
   "execution_count": 36,
   "metadata": {},
   "outputs": [
    {
     "name": "stdout",
     "output_type": "stream",
     "text": [
      "avg length of output: 110.98243775244133\n"
     ]
    }
   ],
   "source": [
    "lengths = list(map(len, list(map(str.split, elecs.label_reviews.to_list()))))\n",
    "print(f\"avg length of output: {sum(lengths)/len(lengths)}\")"
   ]
  },
  {
   "cell_type": "markdown",
   "metadata": {},
   "source": [
    "### concatenate"
   ]
  },
  {
   "cell_type": "code",
   "execution_count": 37,
   "metadata": {},
   "outputs": [],
   "source": [
    "df = pd.concat([cell_access, elecs], axis=0)"
   ]
  },
  {
   "cell_type": "code",
   "execution_count": 38,
   "metadata": {},
   "outputs": [
    {
     "data": {
      "text/plain": [
       "(207323, 7)"
      ]
     },
     "execution_count": 38,
     "metadata": {},
     "output_type": "execute_result"
    }
   ],
   "source": [
    "df.shape"
   ]
  },
  {
   "cell_type": "code",
   "execution_count": 39,
   "metadata": {},
   "outputs": [],
   "source": [
    "train, dev = train_test_split(df, test_size=30000, stratify=df['category'], random_state=42, shuffle=True)"
   ]
  },
  {
   "cell_type": "code",
   "execution_count": 40,
   "metadata": {},
   "outputs": [],
   "source": [
    "dev, test = train_test_split(dev, test_size=20000, stratify=dev['category'], random_state=42, shuffle=True)"
   ]
  },
  {
   "cell_type": "code",
   "execution_count": 41,
   "metadata": {},
   "outputs": [
    {
     "data": {
      "text/plain": [
       "((177323, 7), (10000, 7), (20000, 7))"
      ]
     },
     "execution_count": 41,
     "metadata": {},
     "output_type": "execute_result"
    }
   ],
   "source": [
    "train.shape, dev.shape, test.shape"
   ]
  },
  {
   "cell_type": "code",
   "execution_count": 42,
   "metadata": {},
   "outputs": [
    {
     "data": {
      "text/html": [
       "<div>\n",
       "<style scoped>\n",
       "    .dataframe tbody tr th:only-of-type {\n",
       "        vertical-align: middle;\n",
       "    }\n",
       "\n",
       "    .dataframe tbody tr th {\n",
       "        vertical-align: top;\n",
       "    }\n",
       "\n",
       "    .dataframe thead th {\n",
       "        text-align: right;\n",
       "    }\n",
       "</style>\n",
       "<table border=\"1\" class=\"dataframe\">\n",
       "  <thead>\n",
       "    <tr style=\"text-align: right;\">\n",
       "      <th></th>\n",
       "      <th>review_info</th>\n",
       "      <th>pros</th>\n",
       "      <th>cons</th>\n",
       "      <th>verdict</th>\n",
       "      <th>input_reviews</th>\n",
       "      <th>label_reviews</th>\n",
       "      <th>category</th>\n",
       "    </tr>\n",
       "  </thead>\n",
       "  <tbody>\n",
       "    <tr>\n",
       "      <th>14221</th>\n",
       "      <td>- The gray rubber on this case fits too tightl...</td>\n",
       "      <td>[Low cost, Durable, Good protection, Classy ap...</td>\n",
       "      <td>[Rubber fits too tightly, potentially damaging...</td>\n",
       "      <td>Overall, this case provides good protection at...</td>\n",
       "      <td>Below are the reviews of a product: \\n- The gr...</td>\n",
       "      <td>pros:\\n- Low cost\\n- Durable\\n- Good protectio...</td>\n",
       "      <td>cell_phones_accessories</td>\n",
       "    </tr>\n",
       "    <tr>\n",
       "      <th>18974</th>\n",
       "      <td>- Works great.  Great value\\n- Good quality, e...</td>\n",
       "      <td>[Great value, Excellent quality and coating, N...</td>\n",
       "      <td>[It's just a filter, Some optical help, Slight...</td>\n",
       "      <td>Overall, the Sigma DG 52mm MultiCoated UV filt...</td>\n",
       "      <td>Below are the reviews of a product: \\n- Works ...</td>\n",
       "      <td>pros:\\n- Great value\\n- Excellent quality and ...</td>\n",
       "      <td>electronics</td>\n",
       "    </tr>\n",
       "  </tbody>\n",
       "</table>\n",
       "</div>"
      ],
      "text/plain": [
       "                                             review_info  \\\n",
       "14221  - The gray rubber on this case fits too tightl...   \n",
       "18974  - Works great.  Great value\\n- Good quality, e...   \n",
       "\n",
       "                                                    pros  \\\n",
       "14221  [Low cost, Durable, Good protection, Classy ap...   \n",
       "18974  [Great value, Excellent quality and coating, N...   \n",
       "\n",
       "                                                    cons  \\\n",
       "14221  [Rubber fits too tightly, potentially damaging...   \n",
       "18974  [It's just a filter, Some optical help, Slight...   \n",
       "\n",
       "                                                 verdict  \\\n",
       "14221  Overall, this case provides good protection at...   \n",
       "18974  Overall, the Sigma DG 52mm MultiCoated UV filt...   \n",
       "\n",
       "                                           input_reviews  \\\n",
       "14221  Below are the reviews of a product: \\n- The gr...   \n",
       "18974  Below are the reviews of a product: \\n- Works ...   \n",
       "\n",
       "                                           label_reviews  \\\n",
       "14221  pros:\\n- Low cost\\n- Durable\\n- Good protectio...   \n",
       "18974  pros:\\n- Great value\\n- Excellent quality and ...   \n",
       "\n",
       "                      category  \n",
       "14221  cell_phones_accessories  \n",
       "18974              electronics  "
      ]
     },
     "execution_count": 42,
     "metadata": {},
     "output_type": "execute_result"
    }
   ],
   "source": [
    "train.head(2)"
   ]
  },
  {
   "cell_type": "code",
   "execution_count": 43,
   "metadata": {},
   "outputs": [],
   "source": [
    "train = train[['input_reviews', 'label_reviews']].reset_index(drop=True)\n",
    "dev = dev[['input_reviews', 'label_reviews']].reset_index(drop=True)\n",
    "test = test[['input_reviews', 'label_reviews']].reset_index(drop=True)"
   ]
  },
  {
   "cell_type": "code",
   "execution_count": 44,
   "metadata": {},
   "outputs": [
    {
     "data": {
      "text/plain": [
       "((177323, 2), (10000, 2), (20000, 2))"
      ]
     },
     "execution_count": 44,
     "metadata": {},
     "output_type": "execute_result"
    }
   ],
   "source": [
    "train.shape, dev.shape, test.shape"
   ]
  },
  {
   "cell_type": "code",
   "execution_count": 45,
   "metadata": {},
   "outputs": [
    {
     "data": {
      "text/html": [
       "<div>\n",
       "<style scoped>\n",
       "    .dataframe tbody tr th:only-of-type {\n",
       "        vertical-align: middle;\n",
       "    }\n",
       "\n",
       "    .dataframe tbody tr th {\n",
       "        vertical-align: top;\n",
       "    }\n",
       "\n",
       "    .dataframe thead th {\n",
       "        text-align: right;\n",
       "    }\n",
       "</style>\n",
       "<table border=\"1\" class=\"dataframe\">\n",
       "  <thead>\n",
       "    <tr style=\"text-align: right;\">\n",
       "      <th></th>\n",
       "      <th>input_reviews</th>\n",
       "      <th>label_reviews</th>\n",
       "    </tr>\n",
       "  </thead>\n",
       "  <tbody>\n",
       "    <tr>\n",
       "      <th>0</th>\n",
       "      <td>Below are the reviews of a product: \\n- The gr...</td>\n",
       "      <td>pros:\\n- Low cost\\n- Durable\\n- Good protectio...</td>\n",
       "    </tr>\n",
       "    <tr>\n",
       "      <th>1</th>\n",
       "      <td>Below are the reviews of a product: \\n- Works ...</td>\n",
       "      <td>pros:\\n- Great value\\n- Excellent quality and ...</td>\n",
       "    </tr>\n",
       "  </tbody>\n",
       "</table>\n",
       "</div>"
      ],
      "text/plain": [
       "                                       input_reviews  \\\n",
       "0  Below are the reviews of a product: \\n- The gr...   \n",
       "1  Below are the reviews of a product: \\n- Works ...   \n",
       "\n",
       "                                       label_reviews  \n",
       "0  pros:\\n- Low cost\\n- Durable\\n- Good protectio...  \n",
       "1  pros:\\n- Great value\\n- Excellent quality and ...  "
      ]
     },
     "execution_count": 45,
     "metadata": {},
     "output_type": "execute_result"
    }
   ],
   "source": [
    "train.head(2)"
   ]
  },
  {
   "cell_type": "code",
   "execution_count": 46,
   "metadata": {},
   "outputs": [],
   "source": [
    "idx = 2"
   ]
  },
  {
   "cell_type": "code",
   "execution_count": 47,
   "metadata": {},
   "outputs": [
    {
     "name": "stdout",
     "output_type": "stream",
     "text": [
      "Below are the reviews of a product: \n",
      "- This product not only looks amazing but offers superior phone protection. I also love the kickstand and the fact that it can be mounted to my mountain bike and car windshield with separately purchased accessory. This case is well worth the money and a good investment. Trident cases have saved my phones for many years time and time again. :)\n",
      "- Case was as described, nice bright color. Liked the case overall but it was slick and also just didn't seem to want to say in the clip. If you want just a protective case this may be fine, but for work needed to stay put in a belt clip not so much.\n",
      "- This is a great phone case. Would be better if it had a built in screen cover instead of the old cling ons. Also needs filters over some other areas.\n",
      "- This is a very solid case. I ordered it because I already managed to shatter a screen, and screen replacements are pricey. This case would likely protect against the pavement side impact that did me in. It is modular, so you can use the silcon part by itself, but that seemed flimsy. I can see the beauty of a built-in kickstand, it isn't something that I would use. And it made the case heavy. The whole thing was just bulky, with corners and ridges and such, and really hard to put in your pocket. The belt clip was facing in only, and made things even more huge. If I was going to be biking and stuff with my phone, then I can definitely see the beauty of all the attachments, but it was beyond what I needed.\n",
      "- Excellent quality\n",
      "\n",
      "What are the pros, cons, and verdict for this product?\n"
     ]
    }
   ],
   "source": [
    "print(train.input_reviews[idx])"
   ]
  },
  {
   "cell_type": "code",
   "execution_count": 48,
   "metadata": {},
   "outputs": [
    {
     "name": "stdout",
     "output_type": "stream",
     "text": [
      "pros:\n",
      "- Superior phone protection\n",
      "- Kickstand included\n",
      "- Mountable with accessories\n",
      "- Variety of uses\n",
      "- Excellent quality\n",
      "\n",
      "cons:\n",
      "- Slick surface\n",
      "- Belt clip doesn't hold well\n",
      "- Lacks built-in screen cover\n",
      "- Bulky design\n",
      "- Heavy with built-in kickstand\n",
      "\n",
      "verdict:\n",
      "This case offers great protection and versatility with its modular design, but its bulkiness and lack of a built-in screen cover may be drawbacks for some users.\n"
     ]
    }
   ],
   "source": [
    "print(train.label_reviews[idx])"
   ]
  },
  {
   "cell_type": "code",
   "execution_count": 52,
   "metadata": {},
   "outputs": [],
   "source": [
    "splits = \"../../../data/labelled/reviews/splits\""
   ]
  },
  {
   "cell_type": "code",
   "execution_count": 53,
   "metadata": {},
   "outputs": [],
   "source": [
    "train.to_csv(os.path.join(splits, \"train.csv\"), index=False)\n",
    "dev.to_csv(os.path.join(splits, \"dev.csv\"), index=False)\n",
    "test.to_csv(os.path.join(splits, \"test.csv\"), index=False)"
   ]
  },
  {
   "cell_type": "code",
   "execution_count": null,
   "metadata": {},
   "outputs": [],
   "source": []
  }
 ],
 "metadata": {
  "kernelspec": {
   "display_name": "nlp",
   "language": "python",
   "name": "python3"
  },
  "language_info": {
   "codemirror_mode": {
    "name": "ipython",
    "version": 3
   },
   "file_extension": ".py",
   "mimetype": "text/x-python",
   "name": "python",
   "nbconvert_exporter": "python",
   "pygments_lexer": "ipython3",
   "version": "3.10.13"
  }
 },
 "nbformat": 4,
 "nbformat_minor": 2
}
