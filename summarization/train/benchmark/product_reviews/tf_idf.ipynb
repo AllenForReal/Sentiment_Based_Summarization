{
 "cells": [
  {
   "cell_type": "code",
   "execution_count": 1,
   "metadata": {},
   "outputs": [],
   "source": [
    "from nltk import sent_tokenize\n",
    "from nltk.corpus import stopwords\n",
    "from sklearn.feature_extraction.text import TfidfVectorizer\n",
    "import pandas as pd\n",
    "from tqdm.notebook import tqdm\n",
    "from torchmetrics.text import ROUGEScore"
   ]
  },
  {
   "cell_type": "code",
   "execution_count": 2,
   "metadata": {},
   "outputs": [],
   "source": [
    "df = pd.read_csv(\"../../../data/labelled/reviews/splits/test.csv\")"
   ]
  },
  {
   "cell_type": "code",
   "execution_count": 3,
   "metadata": {},
   "outputs": [],
   "source": [
    "rouge = ROUGEScore()"
   ]
  },
  {
   "cell_type": "code",
   "execution_count": 4,
   "metadata": {},
   "outputs": [
    {
     "data": {
      "text/html": [
       "<div>\n",
       "<style scoped>\n",
       "    .dataframe tbody tr th:only-of-type {\n",
       "        vertical-align: middle;\n",
       "    }\n",
       "\n",
       "    .dataframe tbody tr th {\n",
       "        vertical-align: top;\n",
       "    }\n",
       "\n",
       "    .dataframe thead th {\n",
       "        text-align: right;\n",
       "    }\n",
       "</style>\n",
       "<table border=\"1\" class=\"dataframe\">\n",
       "  <thead>\n",
       "    <tr style=\"text-align: right;\">\n",
       "      <th></th>\n",
       "      <th>input_reviews</th>\n",
       "      <th>label_reviews</th>\n",
       "    </tr>\n",
       "  </thead>\n",
       "  <tbody>\n",
       "    <tr>\n",
       "      <th>0</th>\n",
       "      <td>Below are the reviews of a product: \\n- I purc...</td>\n",
       "      <td>pros:\\n- Reduces glare\\n- Very impressive\\n- W...</td>\n",
       "    </tr>\n",
       "    <tr>\n",
       "      <th>1</th>\n",
       "      <td>Below are the reviews of a product: \\n- Well w...</td>\n",
       "      <td>pros:\\n- Huge capacity\\n- Beautiful design\\n- ...</td>\n",
       "    </tr>\n",
       "  </tbody>\n",
       "</table>\n",
       "</div>"
      ],
      "text/plain": [
       "                                       input_reviews  \\\n",
       "0  Below are the reviews of a product: \\n- I purc...   \n",
       "1  Below are the reviews of a product: \\n- Well w...   \n",
       "\n",
       "                                       label_reviews  \n",
       "0  pros:\\n- Reduces glare\\n- Very impressive\\n- W...  \n",
       "1  pros:\\n- Huge capacity\\n- Beautiful design\\n- ...  "
      ]
     },
     "execution_count": 4,
     "metadata": {},
     "output_type": "execute_result"
    }
   ],
   "source": [
    "df.head(2)"
   ]
  },
  {
   "cell_type": "code",
   "execution_count": 5,
   "metadata": {},
   "outputs": [],
   "source": [
    "vectorizer = TfidfVectorizer(stop_words=stopwords.words(\"english\"))"
   ]
  },
  {
   "cell_type": "code",
   "execution_count": 6,
   "metadata": {},
   "outputs": [
    {
     "data": {
      "application/vnd.jupyter.widget-view+json": {
       "model_id": "49cb067466ad40d5a73f950dd99760b9",
       "version_major": 2,
       "version_minor": 0
      },
      "text/plain": [
       "  0%|          | 0/20000 [00:00<?, ?it/s]"
      ]
     },
     "metadata": {},
     "output_type": "display_data"
    }
   ],
   "source": [
    "preds = []\n",
    "rouge_scores = {\"rouge1\":[], \"rouge2\":[], \"rougeL\": []}\n",
    "for idx in tqdm(range(len(df))):\n",
    "    sentences = sent_tokenize(df.input_reviews[idx])\n",
    "    doc_term_matrix = vectorizer.fit_transform(sentences)\n",
    "    scores = doc_term_matrix.sum(1).flatten().tolist()[0]\n",
    "    sorted_pairs = sorted(zip(sentences,scores), key=lambda x: x[1], reverse=True)\n",
    "    max_len = len(df.input_reviews[idx])//2\n",
    "    cur_len, idx = 0, 0\n",
    "    predicted_summary = \"\"\n",
    "    while cur_len<=max_len:\n",
    "        predicted_summary+=f\"{sorted_pairs[idx][0]} \"\n",
    "        cur_len+=len(sorted_pairs[idx][0])\n",
    "        idx+=1\n",
    "    preds.append(predicted_summary.strip())\n",
    "    rouge_all = rouge(predicted_summary, df.label_reviews[idx])\n",
    "    rouge_scores['rouge1'].append(rouge_all['rouge1_fmeasure'].item())\n",
    "    rouge_scores['rouge2'].append(rouge_all['rouge2_fmeasure'].item())\n",
    "    rouge_scores['rougeL'].append(rouge_all['rougeL_fmeasure'].item())"
   ]
  },
  {
   "cell_type": "code",
   "execution_count": 7,
   "metadata": {},
   "outputs": [],
   "source": [
    "df['rouge1'] = rouge_scores['rouge1']\n",
    "df['rouge2'] = rouge_scores['rouge2']\n",
    "df['rougeL'] = rouge_scores['rougeL']\n",
    "df['tfidf'] = preds"
   ]
  },
  {
   "cell_type": "code",
   "execution_count": 8,
   "metadata": {},
   "outputs": [],
   "source": [
    "df.to_csv(\"tfidf_reviews_scores.csv\")"
   ]
  },
  {
   "cell_type": "code",
   "execution_count": 9,
   "metadata": {},
   "outputs": [],
   "source": [
    "scores = {\"rouge1\": df.rouge1.mean(), \"rouge2\": df.rouge2.mean(), \"rougeL\": df.rougeL.mean()}"
   ]
  },
  {
   "cell_type": "code",
   "execution_count": 10,
   "metadata": {},
   "outputs": [
    {
     "data": {
      "text/plain": [
       "{'rouge1': 0.14757152467968407,\n",
       " 'rouge2': 0.010597576643963111,\n",
       " 'rougeL': 0.07981185964783653}"
      ]
     },
     "execution_count": 10,
     "metadata": {},
     "output_type": "execute_result"
    }
   ],
   "source": [
    "scores"
   ]
  },
  {
   "cell_type": "code",
   "execution_count": null,
   "metadata": {},
   "outputs": [],
   "source": []
  },
  {
   "cell_type": "code",
   "execution_count": null,
   "metadata": {},
   "outputs": [],
   "source": []
  }
 ],
 "metadata": {
  "kernelspec": {
   "display_name": "nlp",
   "language": "python",
   "name": "python3"
  },
  "language_info": {
   "codemirror_mode": {
    "name": "ipython",
    "version": 3
   },
   "file_extension": ".py",
   "mimetype": "text/x-python",
   "name": "python",
   "nbconvert_exporter": "python",
   "pygments_lexer": "ipython3",
   "version": "3.10.13"
  }
 },
 "nbformat": 4,
 "nbformat_minor": 2
}
